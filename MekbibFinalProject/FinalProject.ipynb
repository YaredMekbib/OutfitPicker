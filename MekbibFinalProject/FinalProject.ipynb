{
 "cells": [
  {
   "cell_type": "markdown",
   "metadata": {},
   "source": [
    "# Yared Mekbib\n",
    "# PID - A15525755\n",
    "## Project Description:\n",
    " For this project I created an automatic outfit picker that picks your outfit depending on the weather. It first asks whether or not its hot or cold, and depending on the answer it will ask you for what color tshirts/shorts you own or what color long sleeves/pants you own. Depending on the weather and color combinations you enter, the program will return a random pairing of dark top wear/light bottom wear or light bottom wear/dark top wear.\n",
    "## In order for this program to function correctly, the user must \n",
    "\n",
    "-Import random module and install nltk module\n",
    "\n",
    "-To install nltk, write the following in the terminal (pip install nltk --user)\n",
    "\n",
    "-Hit enter after each specific COLOR of article of clothing. (EG: What light colored long sleeves do you own? *Type \"White\" then hit *enter*)\n",
    "\n",
    "-Type \"Done\" when you have completed entering the corresponding article of clothing\n",
    "\n",
    "-Be sure to enter the CORRECT type of color the program asks\n",
    "\n",
    "#### Test functions\n",
    "\n",
    "- for test functions, I am using the pytest module\n",
    "- this module can be installed with the following command in the terminal (pip install pytest --user)"
   ]
  },
  {
   "cell_type": "markdown",
   "metadata": {},
   "source": [
    "## Github <br>\n",
    "https://github.com/YaredMekbib/OutfitPicker"
   ]
  },
  {
   "cell_type": "code",
   "execution_count": 20,
   "metadata": {},
   "outputs": [],
   "source": [
    "# Setup - run this cell before doing the next part of the assignment\n",
    "#   This imports some /extra code, making it available for us to use later\n",
    "import random\n",
    "import nltk"
   ]
  },
  {
   "cell_type": "code",
   "execution_count": 21,
   "metadata": {},
   "outputs": [],
   "source": [
    "# Asks what colored long sleeves shirts are owned and appends them into lists.\n",
    "# Once \"Done\" is typed, it moves onto the other lists\n",
    "light_longsleeves = []\n",
    "dark_longsleeves = []\n",
    "def longsleeves():\n",
    "    part1 = True\n",
    "    while part1:\n",
    "        print('What light colored long sleeves do you own?')\n",
    "        answer1 = light_longsleeves.append(input())\n",
    "        if 'Done' in light_longsleeves:\n",
    "            light_longsleeves.remove('Done')\n",
    "            print(light_longsleeves)\n",
    "            break\n",
    "    part2 = True\n",
    "    while part2:\n",
    "        print('What dark colored long sleeves do you own?')\n",
    "        answer2 = dark_longsleeves.append(input())\n",
    "        if 'Done' in dark_longsleeves:\n",
    "            dark_longsleeves.remove('Done')\n",
    "            print(dark_longsleeves)\n",
    "            part2 = False\n"
   ]
  },
  {
   "cell_type": "code",
   "execution_count": 22,
   "metadata": {},
   "outputs": [],
   "source": [
    "# Asks what colored shirts are owned and appends them into lists.\n",
    "# Once \"Done\" is typed, it moves onto the other lists\n",
    "light_tshirts = []\n",
    "dark_tshirts = []\n",
    "def tshirts():\n",
    "    part1 = True\n",
    "    while part1:\n",
    "        print('What light colored t shirts do you own?')\n",
    "        answer1 = light_tshirts.append(input())\n",
    "        if 'Done' in light_tshirts:\n",
    "            light_tshirts.remove('Done')\n",
    "            print(light_tshirts)\n",
    "            break\n",
    "    part2 = True\n",
    "    while part2:\n",
    "        print('What dark colored t shirts do you own?')\n",
    "        answer2 = dark_tshirts.append(input())\n",
    "        if 'Done' in dark_tshirts:\n",
    "            dark_tshirts.remove('Done')\n",
    "            print(dark_tshirts)\n",
    "            part2 = False\n",
    "    "
   ]
  },
  {
   "cell_type": "code",
   "execution_count": 23,
   "metadata": {},
   "outputs": [],
   "source": [
    "# Asks what colored pants are owned and appends them into lists.\n",
    "# Once \"Done\" is typed, it moves onto the other lists\n",
    "dark_pants = []\n",
    "light_pants = []\n",
    "\n",
    "def pants():\n",
    "    part1 = True\n",
    "    while part1:\n",
    "        print('What light colored pants do you own?')\n",
    "        answer1 = light_pants.append(input())\n",
    "        if 'Done' in light_pants:\n",
    "            light_pants.remove('Done')\n",
    "            print(light_pants)\n",
    "            break\n",
    "    part2 = True\n",
    "    while part2:\n",
    "        print('What dark colored pants do you own?')\n",
    "        answer2 = dark_pants.append(input())\n",
    "        if 'Done' in dark_pants:\n",
    "            dark_pants.remove('Done')\n",
    "            print(dark_pants)\n",
    "            part2 = False\n",
    "    "
   ]
  },
  {
   "cell_type": "code",
   "execution_count": 24,
   "metadata": {},
   "outputs": [],
   "source": [
    "# Asks what colored shorts are owned and appends them into lists.\n",
    "# Once \"Done\" is typed, it moves onto the other lists\n",
    "dark_shorts = []\n",
    "light_shorts = []\n",
    "def shorts():\n",
    "    part1 = True\n",
    "    while part1:\n",
    "        print('What light colored shorts do you own?')\n",
    "        answer1 = light_shorts.append(input())\n",
    "        if 'Done' in light_shorts:\n",
    "            light_shorts.remove('Done')\n",
    "            print(light_shorts)\n",
    "            break\n",
    "    part2 = True\n",
    "    while part2:\n",
    "        print('What dark colored shorts do you own?')\n",
    "        answer2 = dark_shorts.append(input())\n",
    "        if 'Done' in dark_shorts:\n",
    "            dark_shorts.remove('Done')\n",
    "            print(dark_shorts)\n",
    "            part2 = False\n",
    "    "
   ]
  },
  {
   "cell_type": "code",
   "execution_count": 25,
   "metadata": {},
   "outputs": [],
   "source": [
    "# Main function that asks what the weather is like.\n",
    "# Sorts your outfit into a random color combo of light/dark or dark/light\n",
    "def is_weather():\n",
    "    \"\"\"Determine if the weather is hot or cold\"\"\"\n",
    "    \n",
    "    print('Is it hot or cold?')\n",
    "    msg = input()\n",
    "    if msg == 'cold' or msg == 'Cold' or msg == 'COLD':\n",
    "        answer1 = longsleeves()\n",
    "        answer2 = pants()\n",
    "        combo = random.randrange(1,3)\n",
    "        if combo == 1:\n",
    "            top = random.choice(light_longsleeves)\n",
    "            bottom = random.choice(dark_pants)\n",
    "            print('Wear a ' + top + ' long sleeve and ' + bottom + ' pants!')\n",
    "        else:\n",
    "            top = random.choice(dark_longsleeves)\n",
    "            bottom = random.choice(light_pants)\n",
    "            print('Wear a ' + top + ' long sleeve and ' + bottom + ' pants!')\n",
    "    elif msg == 'hot' or msg == 'Hot' or msg == 'HOT':\n",
    "        answer1 = tshirts()\n",
    "        answer2 = shorts()\n",
    "        combo = random.randrange(1,3)\n",
    "        if combo == 1:\n",
    "            top = random.choice(light_tshirts)\n",
    "            bottom = random.choice(dark_shorts)\n",
    "            print('Wear a ' + top + ' t-shirt and ' + bottom + ' shorts!')\n",
    "        else:\n",
    "            top = random.choice(dark_tshirts)\n",
    "            bottom = random.choice(light_shorts)\n",
    "            print('Wear a ' + top + ' t-shirt and ' + bottom + ' shorts!')"
   ]
  },
  {
   "cell_type": "code",
   "execution_count": 26,
   "metadata": {},
   "outputs": [
    {
     "name": "stdout",
     "output_type": "stream",
     "text": [
      "Is it hot or cold?\n",
      "cold\n",
      "What light colored long sleeves do you own?\n",
      "yellow\n",
      "What light colored long sleeves do you own?\n",
      "Done\n",
      "['yellow']\n",
      "What dark colored long sleeves do you own?\n",
      "Black\n",
      "What dark colored long sleeves do you own?\n",
      "Blue\n",
      "What dark colored long sleeves do you own?\n",
      "Red\n",
      "What dark colored long sleeves do you own?\n",
      "Done\n",
      "['Black', 'Blue', 'Red']\n",
      "What light colored pants do you own?\n",
      "khaki\n",
      "What light colored pants do you own?\n",
      "yellow\n",
      "What light colored pants do you own?\n",
      "Done\n",
      "['khaki', 'yellow']\n",
      "What dark colored pants do you own?\n",
      "Navy blue\n",
      "What dark colored pants do you own?\n",
      "maroon\n",
      "What dark colored pants do you own?\n",
      "Done\n",
      "['Navy blue', 'maroon']\n",
      "Wear a Red long sleeve and khaki pants!\n"
     ]
    }
   ],
   "source": [
    "is_weather()"
   ]
  },
  {
   "cell_type": "code",
   "execution_count": null,
   "metadata": {},
   "outputs": [],
   "source": []
  }
 ],
 "metadata": {
  "kernelspec": {
   "display_name": "Python 3",
   "language": "python",
   "name": "python3"
  },
  "language_info": {
   "codemirror_mode": {
    "name": "ipython",
    "version": 3
   },
   "file_extension": ".py",
   "mimetype": "text/x-python",
   "name": "python",
   "nbconvert_exporter": "python",
   "pygments_lexer": "ipython3",
   "version": "3.6.7"
  }
 },
 "nbformat": 4,
 "nbformat_minor": 2
}
